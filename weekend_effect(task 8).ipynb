{
 "cells": [
  {
   "cell_type": "markdown",
   "metadata": {},
   "source": [
    "Load USD/EUR rates from 2010 to 2020 using the function from 2.\n",
    "Prove or disprove the theory that historically FX rates are more likely to go down between Friday and Monday due to profit taking."
   ]
  },
  {
   "cell_type": "code",
   "execution_count": 3,
   "metadata": {},
   "outputs": [],
   "source": [
    "from func import api_to_df , scrape_exchange_api\n",
    "import pandas as pd\n",
    "\n",
    "\n",
    "import requests\n",
    "import io\n",
    "import datetime\n",
    "import matplotlib.pyplot as plt\n",
    "import seaborn as sns\n",
    "from asset_portfolio import AssetPortfolio\n",
    "from stock  import Stock,Currency_asset,Currency_Dominated_Stock\n",
    "\n",
    "sns.set(rc={'figure.figsize':(11, 4)})\n",
    "\n",
    "import numpy as np\n",
    "\n",
    "%matplotlib inline\n",
    "np.random.seed(42)"
   ]
  },
  {
   "cell_type": "code",
   "execution_count": 4,
   "metadata": {},
   "outputs": [],
   "source": [
    "json_path= 'exchange_rate20201115-215236.txt'\n",
    "json_path= 'exchange_rate_years20201116-123856.txt'\n",
    "\n",
    "exchange_df = api_to_df(json_path)"
   ]
  },
  {
   "cell_type": "code",
   "execution_count": 5,
   "metadata": {},
   "outputs": [
    {
     "data": {
      "text/html": [
       "<div>\n",
       "<style scoped>\n",
       "    .dataframe tbody tr th:only-of-type {\n",
       "        vertical-align: middle;\n",
       "    }\n",
       "\n",
       "    .dataframe tbody tr th {\n",
       "        vertical-align: top;\n",
       "    }\n",
       "\n",
       "    .dataframe thead th {\n",
       "        text-align: right;\n",
       "    }\n",
       "</style>\n",
       "<table border=\"1\" class=\"dataframe\">\n",
       "  <thead>\n",
       "    <tr style=\"text-align: right;\">\n",
       "      <th></th>\n",
       "      <th>CAD</th>\n",
       "      <th>HKD</th>\n",
       "      <th>ISK</th>\n",
       "      <th>PHP</th>\n",
       "      <th>DKK</th>\n",
       "      <th>HUF</th>\n",
       "      <th>CZK</th>\n",
       "      <th>AUD</th>\n",
       "      <th>RON</th>\n",
       "      <th>SEK</th>\n",
       "      <th>...</th>\n",
       "      <th>ZAR</th>\n",
       "      <th>USD</th>\n",
       "      <th>MXN</th>\n",
       "      <th>ILS</th>\n",
       "      <th>GBP</th>\n",
       "      <th>KRW</th>\n",
       "      <th>MYR</th>\n",
       "      <th>start_at</th>\n",
       "      <th>base</th>\n",
       "      <th>date</th>\n",
       "    </tr>\n",
       "    <tr>\n",
       "      <th>date</th>\n",
       "      <th></th>\n",
       "      <th></th>\n",
       "      <th></th>\n",
       "      <th></th>\n",
       "      <th></th>\n",
       "      <th></th>\n",
       "      <th></th>\n",
       "      <th></th>\n",
       "      <th></th>\n",
       "      <th></th>\n",
       "      <th></th>\n",
       "      <th></th>\n",
       "      <th></th>\n",
       "      <th></th>\n",
       "      <th></th>\n",
       "      <th></th>\n",
       "      <th></th>\n",
       "      <th></th>\n",
       "      <th></th>\n",
       "      <th></th>\n",
       "      <th></th>\n",
       "    </tr>\n",
       "  </thead>\n",
       "  <tbody>\n",
       "    <tr>\n",
       "      <th>2019-01-02</th>\n",
       "      <td>1.5547</td>\n",
       "      <td>8.9294</td>\n",
       "      <td>133.4</td>\n",
       "      <td>59.894</td>\n",
       "      <td>7.4669</td>\n",
       "      <td>322.37</td>\n",
       "      <td>25.752</td>\n",
       "      <td>1.6273</td>\n",
       "      <td>4.6600</td>\n",
       "      <td>10.2145</td>\n",
       "      <td>...</td>\n",
       "      <td>16.5075</td>\n",
       "      <td>1.1397</td>\n",
       "      <td>22.3941</td>\n",
       "      <td>4.2708</td>\n",
       "      <td>0.90165</td>\n",
       "      <td>1278.52</td>\n",
       "      <td>4.7195</td>\n",
       "      <td>2019-01-01</td>\n",
       "      <td>EUR</td>\n",
       "      <td>2019-01-02</td>\n",
       "    </tr>\n",
       "    <tr>\n",
       "      <th>2019-01-03</th>\n",
       "      <td>1.5392</td>\n",
       "      <td>8.8884</td>\n",
       "      <td>133.6</td>\n",
       "      <td>59.679</td>\n",
       "      <td>7.4675</td>\n",
       "      <td>322.41</td>\n",
       "      <td>25.683</td>\n",
       "      <td>1.6287</td>\n",
       "      <td>4.6660</td>\n",
       "      <td>10.2808</td>\n",
       "      <td>...</td>\n",
       "      <td>16.4149</td>\n",
       "      <td>1.1348</td>\n",
       "      <td>22.2384</td>\n",
       "      <td>4.2425</td>\n",
       "      <td>0.90312</td>\n",
       "      <td>1279.17</td>\n",
       "      <td>4.7020</td>\n",
       "      <td>2019-01-01</td>\n",
       "      <td>EUR</td>\n",
       "      <td>2019-01-03</td>\n",
       "    </tr>\n",
       "    <tr>\n",
       "      <th>2019-01-04</th>\n",
       "      <td>1.5328</td>\n",
       "      <td>8.9325</td>\n",
       "      <td>134.0</td>\n",
       "      <td>59.809</td>\n",
       "      <td>7.4679</td>\n",
       "      <td>321.45</td>\n",
       "      <td>25.653</td>\n",
       "      <td>1.6189</td>\n",
       "      <td>4.6656</td>\n",
       "      <td>10.2460</td>\n",
       "      <td>...</td>\n",
       "      <td>16.1175</td>\n",
       "      <td>1.1403</td>\n",
       "      <td>22.3080</td>\n",
       "      <td>4.2320</td>\n",
       "      <td>0.89988</td>\n",
       "      <td>1279.13</td>\n",
       "      <td>4.7106</td>\n",
       "      <td>2019-01-01</td>\n",
       "      <td>EUR</td>\n",
       "      <td>2019-01-04</td>\n",
       "    </tr>\n",
       "    <tr>\n",
       "      <th>2019-01-05</th>\n",
       "      <td>1.5328</td>\n",
       "      <td>8.9325</td>\n",
       "      <td>134.0</td>\n",
       "      <td>59.809</td>\n",
       "      <td>7.4679</td>\n",
       "      <td>321.45</td>\n",
       "      <td>25.653</td>\n",
       "      <td>1.6189</td>\n",
       "      <td>4.6656</td>\n",
       "      <td>10.2460</td>\n",
       "      <td>...</td>\n",
       "      <td>16.1175</td>\n",
       "      <td>1.1403</td>\n",
       "      <td>22.3080</td>\n",
       "      <td>4.2320</td>\n",
       "      <td>0.89988</td>\n",
       "      <td>1279.13</td>\n",
       "      <td>4.7106</td>\n",
       "      <td>2019-01-01</td>\n",
       "      <td>EUR</td>\n",
       "      <td>2019-01-04</td>\n",
       "    </tr>\n",
       "    <tr>\n",
       "      <th>2019-01-06</th>\n",
       "      <td>1.5328</td>\n",
       "      <td>8.9325</td>\n",
       "      <td>134.0</td>\n",
       "      <td>59.809</td>\n",
       "      <td>7.4679</td>\n",
       "      <td>321.45</td>\n",
       "      <td>25.653</td>\n",
       "      <td>1.6189</td>\n",
       "      <td>4.6656</td>\n",
       "      <td>10.2460</td>\n",
       "      <td>...</td>\n",
       "      <td>16.1175</td>\n",
       "      <td>1.1403</td>\n",
       "      <td>22.3080</td>\n",
       "      <td>4.2320</td>\n",
       "      <td>0.89988</td>\n",
       "      <td>1279.13</td>\n",
       "      <td>4.7106</td>\n",
       "      <td>2019-01-01</td>\n",
       "      <td>EUR</td>\n",
       "      <td>2019-01-04</td>\n",
       "    </tr>\n",
       "    <tr>\n",
       "      <th>...</th>\n",
       "      <td>...</td>\n",
       "      <td>...</td>\n",
       "      <td>...</td>\n",
       "      <td>...</td>\n",
       "      <td>...</td>\n",
       "      <td>...</td>\n",
       "      <td>...</td>\n",
       "      <td>...</td>\n",
       "      <td>...</td>\n",
       "      <td>...</td>\n",
       "      <td>...</td>\n",
       "      <td>...</td>\n",
       "      <td>...</td>\n",
       "      <td>...</td>\n",
       "      <td>...</td>\n",
       "      <td>...</td>\n",
       "      <td>...</td>\n",
       "      <td>...</td>\n",
       "      <td>...</td>\n",
       "      <td>...</td>\n",
       "      <td>...</td>\n",
       "    </tr>\n",
       "    <tr>\n",
       "      <th>2019-12-27</th>\n",
       "      <td>1.4592</td>\n",
       "      <td>8.6845</td>\n",
       "      <td>135.6</td>\n",
       "      <td>56.574</td>\n",
       "      <td>7.4704</td>\n",
       "      <td>330.83</td>\n",
       "      <td>25.509</td>\n",
       "      <td>1.5996</td>\n",
       "      <td>4.7818</td>\n",
       "      <td>10.4363</td>\n",
       "      <td>...</td>\n",
       "      <td>15.6649</td>\n",
       "      <td>1.1153</td>\n",
       "      <td>21.0989</td>\n",
       "      <td>3.8611</td>\n",
       "      <td>0.85130</td>\n",
       "      <td>1294.42</td>\n",
       "      <td>4.6034</td>\n",
       "      <td>2019-01-01</td>\n",
       "      <td>EUR</td>\n",
       "      <td>2019-12-27</td>\n",
       "    </tr>\n",
       "    <tr>\n",
       "      <th>2019-12-28</th>\n",
       "      <td>1.4592</td>\n",
       "      <td>8.6845</td>\n",
       "      <td>135.6</td>\n",
       "      <td>56.574</td>\n",
       "      <td>7.4704</td>\n",
       "      <td>330.83</td>\n",
       "      <td>25.509</td>\n",
       "      <td>1.5996</td>\n",
       "      <td>4.7818</td>\n",
       "      <td>10.4363</td>\n",
       "      <td>...</td>\n",
       "      <td>15.6649</td>\n",
       "      <td>1.1153</td>\n",
       "      <td>21.0989</td>\n",
       "      <td>3.8611</td>\n",
       "      <td>0.85130</td>\n",
       "      <td>1294.42</td>\n",
       "      <td>4.6034</td>\n",
       "      <td>2019-01-01</td>\n",
       "      <td>EUR</td>\n",
       "      <td>2019-12-27</td>\n",
       "    </tr>\n",
       "    <tr>\n",
       "      <th>2019-12-29</th>\n",
       "      <td>1.4592</td>\n",
       "      <td>8.6845</td>\n",
       "      <td>135.6</td>\n",
       "      <td>56.574</td>\n",
       "      <td>7.4704</td>\n",
       "      <td>330.83</td>\n",
       "      <td>25.509</td>\n",
       "      <td>1.5996</td>\n",
       "      <td>4.7818</td>\n",
       "      <td>10.4363</td>\n",
       "      <td>...</td>\n",
       "      <td>15.6649</td>\n",
       "      <td>1.1153</td>\n",
       "      <td>21.0989</td>\n",
       "      <td>3.8611</td>\n",
       "      <td>0.85130</td>\n",
       "      <td>1294.42</td>\n",
       "      <td>4.6034</td>\n",
       "      <td>2019-01-01</td>\n",
       "      <td>EUR</td>\n",
       "      <td>2019-12-27</td>\n",
       "    </tr>\n",
       "    <tr>\n",
       "      <th>2019-12-30</th>\n",
       "      <td>1.4621</td>\n",
       "      <td>8.7133</td>\n",
       "      <td>135.8</td>\n",
       "      <td>56.784</td>\n",
       "      <td>7.4697</td>\n",
       "      <td>331.04</td>\n",
       "      <td>25.463</td>\n",
       "      <td>1.5992</td>\n",
       "      <td>4.7821</td>\n",
       "      <td>10.4400</td>\n",
       "      <td>...</td>\n",
       "      <td>15.7398</td>\n",
       "      <td>1.1189</td>\n",
       "      <td>21.0850</td>\n",
       "      <td>3.8749</td>\n",
       "      <td>0.85208</td>\n",
       "      <td>1294.35</td>\n",
       "      <td>4.5948</td>\n",
       "      <td>2019-01-01</td>\n",
       "      <td>EUR</td>\n",
       "      <td>2019-12-30</td>\n",
       "    </tr>\n",
       "    <tr>\n",
       "      <th>2019-12-31</th>\n",
       "      <td>1.4598</td>\n",
       "      <td>8.7473</td>\n",
       "      <td>135.8</td>\n",
       "      <td>56.900</td>\n",
       "      <td>7.4715</td>\n",
       "      <td>330.53</td>\n",
       "      <td>25.408</td>\n",
       "      <td>1.5995</td>\n",
       "      <td>4.7830</td>\n",
       "      <td>10.4468</td>\n",
       "      <td>...</td>\n",
       "      <td>15.7773</td>\n",
       "      <td>1.1234</td>\n",
       "      <td>21.2202</td>\n",
       "      <td>3.8845</td>\n",
       "      <td>0.85080</td>\n",
       "      <td>1296.28</td>\n",
       "      <td>4.5953</td>\n",
       "      <td>2019-01-01</td>\n",
       "      <td>EUR</td>\n",
       "      <td>2019-12-31</td>\n",
       "    </tr>\n",
       "  </tbody>\n",
       "</table>\n",
       "<p>364 rows × 35 columns</p>\n",
       "</div>"
      ],
      "text/plain": [
       "               CAD     HKD    ISK     PHP     DKK     HUF     CZK     AUD  \\\n",
       "date                                                                        \n",
       "2019-01-02  1.5547  8.9294  133.4  59.894  7.4669  322.37  25.752  1.6273   \n",
       "2019-01-03  1.5392  8.8884  133.6  59.679  7.4675  322.41  25.683  1.6287   \n",
       "2019-01-04  1.5328  8.9325  134.0  59.809  7.4679  321.45  25.653  1.6189   \n",
       "2019-01-05  1.5328  8.9325  134.0  59.809  7.4679  321.45  25.653  1.6189   \n",
       "2019-01-06  1.5328  8.9325  134.0  59.809  7.4679  321.45  25.653  1.6189   \n",
       "...            ...     ...    ...     ...     ...     ...     ...     ...   \n",
       "2019-12-27  1.4592  8.6845  135.6  56.574  7.4704  330.83  25.509  1.5996   \n",
       "2019-12-28  1.4592  8.6845  135.6  56.574  7.4704  330.83  25.509  1.5996   \n",
       "2019-12-29  1.4592  8.6845  135.6  56.574  7.4704  330.83  25.509  1.5996   \n",
       "2019-12-30  1.4621  8.7133  135.8  56.784  7.4697  331.04  25.463  1.5992   \n",
       "2019-12-31  1.4598  8.7473  135.8  56.900  7.4715  330.53  25.408  1.5995   \n",
       "\n",
       "               RON      SEK  ...      ZAR     USD      MXN     ILS      GBP  \\\n",
       "date                         ...                                              \n",
       "2019-01-02  4.6600  10.2145  ...  16.5075  1.1397  22.3941  4.2708  0.90165   \n",
       "2019-01-03  4.6660  10.2808  ...  16.4149  1.1348  22.2384  4.2425  0.90312   \n",
       "2019-01-04  4.6656  10.2460  ...  16.1175  1.1403  22.3080  4.2320  0.89988   \n",
       "2019-01-05  4.6656  10.2460  ...  16.1175  1.1403  22.3080  4.2320  0.89988   \n",
       "2019-01-06  4.6656  10.2460  ...  16.1175  1.1403  22.3080  4.2320  0.89988   \n",
       "...            ...      ...  ...      ...     ...      ...     ...      ...   \n",
       "2019-12-27  4.7818  10.4363  ...  15.6649  1.1153  21.0989  3.8611  0.85130   \n",
       "2019-12-28  4.7818  10.4363  ...  15.6649  1.1153  21.0989  3.8611  0.85130   \n",
       "2019-12-29  4.7818  10.4363  ...  15.6649  1.1153  21.0989  3.8611  0.85130   \n",
       "2019-12-30  4.7821  10.4400  ...  15.7398  1.1189  21.0850  3.8749  0.85208   \n",
       "2019-12-31  4.7830  10.4468  ...  15.7773  1.1234  21.2202  3.8845  0.85080   \n",
       "\n",
       "                KRW     MYR   start_at  base       date  \n",
       "date                                                     \n",
       "2019-01-02  1278.52  4.7195 2019-01-01   EUR 2019-01-02  \n",
       "2019-01-03  1279.17  4.7020 2019-01-01   EUR 2019-01-03  \n",
       "2019-01-04  1279.13  4.7106 2019-01-01   EUR 2019-01-04  \n",
       "2019-01-05  1279.13  4.7106 2019-01-01   EUR 2019-01-04  \n",
       "2019-01-06  1279.13  4.7106 2019-01-01   EUR 2019-01-04  \n",
       "...             ...     ...        ...   ...        ...  \n",
       "2019-12-27  1294.42  4.6034 2019-01-01   EUR 2019-12-27  \n",
       "2019-12-28  1294.42  4.6034 2019-01-01   EUR 2019-12-27  \n",
       "2019-12-29  1294.42  4.6034 2019-01-01   EUR 2019-12-27  \n",
       "2019-12-30  1294.35  4.5948 2019-01-01   EUR 2019-12-30  \n",
       "2019-12-31  1296.28  4.5953 2019-01-01   EUR 2019-12-31  \n",
       "\n",
       "[364 rows x 35 columns]"
      ]
     },
     "execution_count": 5,
     "metadata": {},
     "output_type": "execute_result"
    }
   ],
   "source": [
    "exchange_df"
   ]
  },
  {
   "cell_type": "code",
   "execution_count": 6,
   "metadata": {},
   "outputs": [],
   "source": [
    "portfolio = AssetPortfolio()\n",
    "portfolio.add( Stock('ABC',200,4) )\n",
    "portfolio.add( Stock('DDW',100,10) )\n",
    "portfolio.add( Stock('DDW',100,10) )\n",
    "portfolio.add(Currency_asset(10,'$'))\n",
    "portfolio.add(Currency_Dominated_Stock('DDW',100,10,'EUR'))\n",
    "\n",
    "\n",
    "change_inval=portfolio.portfolio_to_currency(exchange_df.USD,'EUR')\n",
    "dfchanges= pd.DataFrame(change_inval)"
   ]
  },
  {
   "cell_type": "code",
   "execution_count": 12,
   "metadata": {},
   "outputs": [
    {
     "data": {
      "text/plain": [
       "<Figure size 1440x720 with 0 Axes>"
      ]
     },
     "metadata": {},
     "output_type": "display_data"
    },
    {
     "data": {
      "image/png": "[encoded data removed]",
      "text/plain": [
       "<Figure size 432x288 with 1 Axes>"
      ]
     },
     "metadata": {
      "needs_background": "light"
     },
     "output_type": "display_data"
    }
   ],
   "source": [
    "#fig = plt.figure()\n",
    "plt.figure(figsize=(20,10))\n",
    "\n",
    "#ax = fig.add_subplot(111)\n",
    "\n",
    "dfchanges.plot()\n",
    "\n",
    "minval=dfchanges[dfchanges.EUR==dfchanges.EUR.min()]\n",
    "minx=minval.index[0].strftime('%Y-%m-%d')\n",
    "miny= minval.EUR.values[0]\n",
    "\n",
    "maxval=dfchanges[dfchanges.EUR==dfchanges.EUR.max()]\n",
    "maxx=maxval.index[0].strftime('%Y-%m-%d')\n",
    "maxy= maxval.EUR.values[0]\n",
    "\n",
    "text= \"x={}, y={}\".format(minx, miny)\n",
    "plt.annotate(text, xy=(minx, miny) )\n",
    "\n",
    "#ax.annotate(text, xy=(xmax, ymax), xytext=(0.94,0.96), **kw)\n",
    "text= \"x={}, y={}\".format(maxx, maxy)\n",
    "plt.annotate(text, xy=(maxx, maxy) )\n",
    "#plt.annotate('max ', xy=(maxval.index[0], maxval.EUR))\n",
    "\n",
    "ax.set_ylim(0,20)\n",
    "plt.show()\n"
   ]
  },
  {
   "cell_type": "code",
   "execution_count": null,
   "metadata": {},
   "outputs": [],
   "source": []
  },
  {
   "cell_type": "code",
   "execution_count": null,
   "metadata": {},
   "outputs": [],
   "source": []
  },
  {
   "cell_type": "code",
   "execution_count": null,
   "metadata": {},
   "outputs": [],
   "source": []
  },
  {
   "cell_type": "code",
   "execution_count": null,
   "metadata": {},
   "outputs": [],
   "source": []
  },
  {
   "cell_type": "code",
   "execution_count": null,
   "metadata": {},
   "outputs": [],
   "source": []
  },
  {
   "cell_type": "code",
   "execution_count": 2,
   "metadata": {},
   "outputs": [],
   "source": [
    "#url= 'https://api.exchangeratesapi.io/history?start_at=2010-01-01&end_at=2020-11-01&symbols=USD'\n",
    "\n",
    "#scrape_exchange_api(url, 'usd_rate')\n"
   ]
  },
  {
   "cell_type": "code",
   "execution_count": 3,
   "metadata": {},
   "outputs": [],
   "source": [
    "df = api_to_df('usd_rate20201119.txt')\n"
   ]
  },
  {
   "cell_type": "code",
   "execution_count": 4,
   "metadata": {},
   "outputs": [],
   "source": [
    "df.set_index(df.date, inplace=True)\n",
    "df['day']=df.date.dt.strftime(\"%A\")"
   ]
  },
  {
   "cell_type": "code",
   "execution_count": 5,
   "metadata": {},
   "outputs": [
    {
     "data": {
      "text/plain": [
       "<AxesSubplot:xlabel='date'>"
      ]
     },
     "execution_count": 5,
     "metadata": {},
     "output_type": "execute_result"
    },
    {
     "data": {
      "image/png": "[encoded data removed]",
      "text/plain": [
       "<Figure size 432x288 with 1 Axes>"
      ]
     },
     "metadata": {
      "needs_background": "light"
     },
     "output_type": "display_data"
    }
   ],
   "source": [
    "df['USD'].plot()"
   ]
  },
  {
   "cell_type": "markdown",
   "metadata": {},
   "source": [
    "Hypotheses testing : \n",
    "\n",
    "$$H_0: \\mu_{monday} - \\mu_{friday} >= 0$$\n",
    "\n",
    "\n",
    "$$H_1: \\mu_{monday} - \\mu_{Friday} < 0$$\n",
    "\n"
   ]
  },
  {
   "cell_type": "code",
   "execution_count": 6,
   "metadata": {},
   "outputs": [],
   "source": [
    "# sampling the data \n",
    "sample_data = df.sample(300)\n"
   ]
  },
  {
   "cell_type": "code",
   "execution_count": 7,
   "metadata": {},
   "outputs": [],
   "source": [
    "friday_means, monday_means, diffs = [], [], []\n",
    "\n",
    "for _ in range(10000):\n",
    "    bootsamp = sample_data.sample(300, replace = True)\n",
    "    #coff_mean = bootsamp[bootsamp['drinks_coffee'] == True]['height'].mean()\n",
    "\n",
    "    monday_mean = bootsamp[bootsamp.day=='Monday']['USD'].mean()\n",
    "    friday_mean = bootsamp[bootsamp.day=='Friday']['USD'].mean()\n",
    "    #monday_mean = bootsamp['Monday'].mean()\n",
    "    #friday_mean = bootsamp['Fridays'].mean()\n",
    "    \n",
    "    # append the info \n",
    "    monday_means.append(monday_mean)\n",
    "    friday_means.append(friday_mean)\n",
    "    diffs.append(monday_mean - friday_mean)   "
   ]
  },
  {
   "cell_type": "code",
   "execution_count": 8,
   "metadata": {},
   "outputs": [
    {
     "data": {
      "image/png": "[encoded data removed]",
      "text/plain": [
       "<Figure size 432x288 with 1 Axes>"
      ]
     },
     "metadata": {
      "needs_background": "light"
     },
     "output_type": "display_data"
    }
   ],
   "source": [
    "\n",
    "\n",
    "plt.title('means of 1000 sample distribution of size 200 , Means of monday in red , friday in blue')\n",
    "\n",
    "\n",
    "\n",
    "\n",
    "plt.hist(monday_means, alpha = 0.5 , color = 'r' ,);\n",
    "plt.hist(friday_means, alpha = 0.5 , color = 'b'); "
   ]
  },
  {
   "cell_type": "markdown",
   "metadata": {},
   "source": [
    "creating the null values "
   ]
  },
  {
   "cell_type": "code",
   "execution_count": 9,
   "metadata": {},
   "outputs": [],
   "source": [
    "null_vals = np.random.normal(0, np.std(diffs), 10000)"
   ]
  },
  {
   "cell_type": "code",
   "execution_count": 10,
   "metadata": {},
   "outputs": [
    {
     "data": {
      "text/plain": [
       "Text(0.5, 1.0, 'null_vals')"
      ]
     },
     "execution_count": 10,
     "metadata": {},
     "output_type": "execute_result"
    },
    {
     "data": {
      "image/png": "[encoded data removed]",
      "text/plain": [
       "<Figure size 432x288 with 1 Axes>"
      ]
     },
     "metadata": {
      "needs_background": "light"
     },
     "output_type": "display_data"
    }
   ],
   "source": [
    "#Here is the sampling distribution of the difference under the null\n",
    "plt.hist(null_vals);\n",
    "plt.title('null_vals')   "
   ]
  },
  {
   "cell_type": "code",
   "execution_count": 11,
   "metadata": {},
   "outputs": [],
   "source": [
    "\n",
    "#Since the sample Mean does not fall in null vals ,  we reject the null\n",
    "#null hypotheses in favor of alternative \n",
    "\n",
    "sample_mean= sample_data[sample_data.day=='Monday']['USD'].mean()-sample_data[sample_data.day=='Friday']['USD'].mean()\n",
    "#sample_mean=sample_data['Monday'].mean()- sample_data['Fridays'].mean()\n"
   ]
  },
  {
   "cell_type": "code",
   "execution_count": 12,
   "metadata": {},
   "outputs": [
    {
     "data": {
      "text/plain": [
       "-0.049103268384663945"
      ]
     },
     "execution_count": 12,
     "metadata": {},
     "output_type": "execute_result"
    }
   ],
   "source": [
    "sample_mean"
   ]
  },
  {
   "cell_type": "code",
   "execution_count": 14,
   "metadata": {},
   "outputs": [
    {
     "data": {
      "text/plain": [
       "0.0258"
      ]
     },
     "execution_count": 14,
     "metadata": {},
     "output_type": "execute_result"
    }
   ],
   "source": [
    "p = (null_vals<sample_mean).mean()\n",
    "p"
   ]
  },
  {
   "cell_type": "markdown",
   "metadata": {},
   "source": [
    "since P< 0.5 then we reject the null hypothesis in favor of alternative hypothesis."
   ]
  },
  {
   "cell_type": "code",
   "execution_count": null,
   "metadata": {},
   "outputs": [],
   "source": []
  }
 ],
 "metadata": {
  "kernelspec": {
   "display_name": "Python 3",
   "language": "python",
   "name": "python3"
  },
  "language_info": {
   "codemirror_mode": {
    "name": "ipython",
    "version": 3
   },
   "file_extension": ".py",
   "mimetype": "text/x-python",
   "name": "python",
   "nbconvert_exporter": "python",
   "pygments_lexer": "ipython3",
   "version": "3.6.12"
  }
 },
 "nbformat": 4,
 "nbformat_minor": 4
}
